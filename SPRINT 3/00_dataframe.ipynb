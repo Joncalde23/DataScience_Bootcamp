{
 "cells": [
  {
   "cell_type": "markdown",
   "id": "9e6e49c9",
   "metadata": {},
   "source": [
    "# Dataframe\n",
    "\n",
    "Contiene atributos como:\n",
    "\n",
    "* **dtypes**: Permite visualizar los tipos de datos de los valores de cada columna. ```print(df.dtypes)```.\n",
    "\n",
    "* **columns**: Muestra el nombre de las columnas, almacena una lista con las columnas y son de tipo object. ```print(df.columns)```.\n",
    "\n",
    "* **shape**: comprende el tamaño de la tabla. ```print(df.shape)```. resultado (65000,5) el primer valor son las filas y el segundo las columnas.\n",
    "\n",
    "* **df.info**: Metodo para acceder a todos los atributos. ```df.info()```.\n",
    "\n",
    "* **df.sample(n)**: Es un metodo que que debe ir aompañado del print(), imprime en consola las filas que ud qle indique en el argumento y son aleatorias, si desea imprimir siempre la misma lista se usa el argumento randon_state, por ejemplo ```print(df.sample(5, randonm_state=23678))```.\n",
    "\n",
    "* **isnull().sum()**:Cuenta el número de valores nulos en cada columna. Como salida se obtiene una serie con nombres de columnas y conteo de valores nulos.\n",
    "\n",
    "* **notnull().sum()**: Cuenta el número de valores no nulos en cada columna. Como salida se obtiene una serie con nombres de columnas y conteo de valores no nulos.\n",
    "\n",
    "# Tipos de datos\n",
    "\n",
    "| tipo de dato  | python | pandas   | \n",
    "|-------------- |--------|----------|\n",
    "| string        | str    | object   |\n",
    "| número entero | int    | int64    |\n",
    "| número decimal| float  | float 64 | \n",
    "| lógico        | bool   | bool     |  "
   ]
  },
  {
   "cell_type": "markdown",
   "id": "a0a23ad5",
   "metadata": {},
   "source": []
  }
 ],
 "metadata": {
  "language_info": {
   "name": "python"
  }
 },
 "nbformat": 4,
 "nbformat_minor": 5
}
