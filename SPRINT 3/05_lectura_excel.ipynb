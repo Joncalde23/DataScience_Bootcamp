{
 "cells": [
  {
   "cell_type": "markdown",
   "id": "92508ed3",
   "metadata": {},
   "source": [
    "# Lectura de archivos de excel\n",
    "\n",
    "Cuando manejamos datasets que vienen en un archivo de excel, por defecto se abrira la primera hoja del archivo, pero que sucede sí el archivo contiene más d euna hoja?. \n",
    "\n",
    "Cuando tiene más de una hoja es posible acceder a ella con el siguiente codigo:\n",
    "\n",
    "```python \n",
    "import pandas as pd\n",
    "\n",
    "df_products = pd.read_excel('/datasets/product_reviews.xlsx', sheet_name='products')\n",
    "\n",
    "print(df_products)\n",
    "\n",
    "\n",
    "\n"
   ]
  },
  {
   "cell_type": "markdown",
   "id": "7e73711a",
   "metadata": {},
   "source": [
    "En el campo de ```sheet_name =''products'```lo que está despues del igual es el nombre de la hoja a la que queremos acceder."
   ]
  },
  {
   "cell_type": "markdown",
   "id": "a7dcebf1",
   "metadata": {},
   "source": []
  }
 ],
 "metadata": {
  "language_info": {
   "name": "python"
  }
 },
 "nbformat": 4,
 "nbformat_minor": 5
}
