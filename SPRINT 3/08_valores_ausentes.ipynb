{
 "cells": [
  {
   "cell_type": "markdown",
   "id": "4fda32f6",
   "metadata": {},
   "source": [
    "# Procesamiento de valores ausentes\n",
    "\n",
    "Para encontrar los valores ausentes en una tabla se usa le método `isna()`, el resultado obtenido de este metodo es un booleano `True` or `False`, por lo que no es tan bueno este metodo, para ello se debe acompañar del método  `sum()`.  La función `sum()` cuenta todos los valores `True` y devuelve su suma total: `\n",
    "\n",
    "`print(cholera.isna().sum())` "
   ]
  },
  {
   "cell_type": "markdown",
   "id": "f37100ee",
   "metadata": {},
   "source": []
  },
  {
   "cell_type": "markdown",
   "id": "28b397c7",
   "metadata": {},
   "source": [
    "# Formas de procesar valores ausentes\n",
    "\n",
    "* Las filas de la tabla se pueden eliminar por completo\n",
    "* Reemplazar los valores ausentes ocn otros valores\n",
    "\n",
    "Para sustituir los valores de la columna se utiliza el método `fillna()`:\n",
    "\n",
    "`cholera['imported_cases'].fillna(0, inplace=True)`\n",
    "\n",
    "El resultado será idéntico: cualquier valor que falte en la columna 'imported_cases' se reemplazará por 0.\n",
    "\n",
    "Por cierto, incluso puedes usar aquí el bucle for para remplazar los valores ausentes. Todo lo que necesitas es crear una lista que contenga todas las columnas en donde quieres hacer el remplazo, y después iterar sobre esos nombres para hacer realmente el cambio.\n",
    "\n",
    "```python\n",
    "# recorrer nombres de columna y remplazar los valores ausentes con ceros\n",
    "columns_to_replace = ['imported_cases']\n",
    "\n",
    "for col in columns_to_replace:\n",
    "    cholera[col].fillna(0, inplace=True)\n",
    "```\n",
    "Los bucles son útiles cuando tienes varias columnas y quieres reemplazar los valores ausentes por un valor específico. En este caso, solo necesitamos reemplazar los valores ausentes en la columna `'imported_cases'`. Por lo tanto, `cholera['imported_cases'].fillna(0, inplace=True)` es el método preferible."
   ]
  },
  {
   "cell_type": "markdown",
   "id": "d0eea9c7",
   "metadata": {},
   "source": [
    "# Eliminar filas\n",
    "\n",
    "Para eliminar filas con valores ausentes en un DataFrame de pandas, usa el método `dropna()`. Este método elimina las filas con al menos un valor ausente. También puedes especificar una lista de columnas en su parámetro `subset=` para que elimine filas con valores nulos solo en esas columnas.\n",
    "\n"
   ]
  },
  {
   "cell_type": "markdown",
   "id": "215ad35a",
   "metadata": {},
   "source": []
  }
 ],
 "metadata": {
  "kernelspec": {
   "display_name": "Python 3",
   "language": "python",
   "name": "python3"
  },
  "language_info": {
   "name": "python",
   "version": "3.10.4"
  }
 },
 "nbformat": 4,
 "nbformat_minor": 5
}
