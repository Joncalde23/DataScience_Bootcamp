{
 "cells": [
  {
   "cell_type": "code",
   "execution_count": 1,
   "id": "c35d7220",
   "metadata": {},
   "outputs": [
    {
     "ename": "ModuleNotFoundError",
     "evalue": "No module named 'pandas'",
     "output_type": "error",
     "traceback": [
      "\u001b[1;31m---------------------------------------------------------------------------\u001b[0m",
      "\u001b[1;31mModuleNotFoundError\u001b[0m                       Traceback (most recent call last)",
      "Cell \u001b[1;32mIn[1], line 1\u001b[0m\n\u001b[1;32m----> 1\u001b[0m \u001b[38;5;28;01mimport\u001b[39;00m\u001b[38;5;250m \u001b[39m\u001b[38;5;21;01mpandas\u001b[39;00m\u001b[38;5;250m \u001b[39m\u001b[38;5;28;01mas\u001b[39;00m\u001b[38;5;250m \u001b[39m\u001b[38;5;21;01mpd\u001b[39;00m\n\u001b[0;32m      3\u001b[0m df \u001b[38;5;241m=\u001b[39m pd\u001b[38;5;241m.\u001b[39mread_csv(\u001b[38;5;124m'\u001b[39m\u001b[38;5;124mO:\u001b[39m\u001b[38;5;124m\\\u001b[39m\u001b[38;5;124mComercial\u001b[39m\u001b[38;5;124m\\\u001b[39m\u001b[38;5;124mMostrador\u001b[39m\u001b[38;5;124m\\\u001b[39m\u001b[38;5;124mAsesores Mostrador\u001b[39m\u001b[38;5;124m\\\u001b[39m\u001b[38;5;124mMostrador2\u001b[39m\u001b[38;5;124m\\\u001b[39m\u001b[38;5;124mdocumentos jonathan\u001b[39m\u001b[38;5;130;01m\\t\u001b[39;00m\u001b[38;5;124malento tech\u001b[39m\u001b[38;5;124m\\\u001b[39m\u001b[38;5;124me-commerce\u001b[39m\u001b[38;5;124m\\\u001b[39m\u001b[38;5;124mDataScience_Bootcamp\u001b[39m\u001b[38;5;124m\\\u001b[39m\u001b[38;5;124mPrueba\u001b[39m\u001b[38;5;124m\\\u001b[39m\u001b[38;5;124mdata\u001b[39m\u001b[38;5;124m\\\u001b[39m\u001b[38;5;124mVentas_Jonathan.xlsx\u001b[39m\u001b[38;5;124m'\u001b[39m)\n\u001b[0;32m      5\u001b[0m df\u001b[38;5;241m.\u001b[39minfo()\n",
      "\u001b[1;31mModuleNotFoundError\u001b[0m: No module named 'pandas'"
     ]
    }
   ],
   "source": [
    "import pandas as pd\n",
    "\n",
    "df = pd.read_csv('O:\\Comercial\\Mostrador\\Asesores Mostrador\\Mostrador2\\documentos jonathan\\talento tech\\e-commerce\\DataScience_Bootcamp\\Prueba\\data\\Ventas_Jonathan.xlsx')\n",
    "\n",
    "df.info()\n"
   ]
  },
  {
   "cell_type": "code",
   "execution_count": null,
   "id": "d9d9e2aa",
   "metadata": {},
   "outputs": [],
   "source": []
  }
 ],
 "metadata": {
  "kernelspec": {
   "display_name": "Python 3",
   "language": "python",
   "name": "python3"
  },
  "language_info": {
   "codemirror_mode": {
    "name": "ipython",
    "version": 3
   },
   "file_extension": ".py",
   "mimetype": "text/x-python",
   "name": "python",
   "nbconvert_exporter": "python",
   "pygments_lexer": "ipython3",
   "version": "3.10.4"
  }
 },
 "nbformat": 4,
 "nbformat_minor": 5
}
