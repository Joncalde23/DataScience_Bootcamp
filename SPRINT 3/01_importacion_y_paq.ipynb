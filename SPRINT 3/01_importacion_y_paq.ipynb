{
 "cells": [
  {
   "cell_type": "markdown",
   "id": "f1a44e58",
   "metadata": {},
   "source": [
    "# Importación y uso de paquetes\n",
    "\n",
    "Con el comando ```import pandas``` se llama la libreria y se le da un alías ```pd```"
   ]
  },
  {
   "cell_type": "code",
   "execution_count": 3,
   "id": "38d16faf",
   "metadata": {},
   "outputs": [],
   "source": [
    "import pandas as pd\n"
   ]
  },
  {
   "cell_type": "markdown",
   "id": "a48e05b2",
   "metadata": {},
   "source": [
    "# DataFrame\n",
    "Es una clase para tomar los datos, tiene dos argumentos (data, columns), el resultado de la misma se evidencía en la casilla de abajo:"
   ]
  },
  {
   "cell_type": "code",
   "execution_count": 5,
   "id": "5ac03705",
   "metadata": {},
   "outputs": [
    {
     "name": "stdout",
     "output_type": "stream",
     "text": [
      "  country      capital\n",
      "0  France        Paris\n",
      "1  Russia       Moscow\n",
      "2   China      Beijing\n",
      "3  Mexico  Mexico City\n",
      "4   Egypt        Cairo\n"
     ]
    }
   ],
   "source": [
    "atlas = [\n",
    "    ['France', 'Paris'],\n",
    "    ['Russia', 'Moscow'],\n",
    "    ['China', 'Beijing'],\n",
    "    ['Mexico', 'Mexico City'],\n",
    "    ['Egypt', 'Cairo']\n",
    "]\n",
    "\n",
    "geography = ['country', 'capital']\n",
    "\n",
    "# Creamos un DataFrame\n",
    "world_map = pd.DataFrame(data=atlas, columns=geography)\n",
    "print(world_map)"
   ]
  },
  {
   "cell_type": "markdown",
   "id": "5d1693b9",
   "metadata": {},
   "source": [
    "# Pandas para archivos de Excel y CSV\n",
    "Para acceder a un dataframe de Excel el comando es: ```df= pd.read_excel('ruta del archivo')```\n",
    "Para acceder a un dataframe de CSV el comando es: ```df = pd.read_csv('ruta del archivo')```"
   ]
  },
  {
   "cell_type": "code",
   "execution_count": null,
   "id": "8a39c44d",
   "metadata": {},
   "outputs": [],
   "source": []
  }
 ],
 "metadata": {
  "kernelspec": {
   "display_name": "Python 3",
   "language": "python",
   "name": "python3"
  },
  "language_info": {
   "codemirror_mode": {
    "name": "ipython",
    "version": 3
   },
   "file_extension": ".py",
   "mimetype": "text/x-python",
   "name": "python",
   "nbconvert_exporter": "python",
   "pygments_lexer": "ipython3",
   "version": "3.13.7"
  }
 },
 "nbformat": 4,
 "nbformat_minor": 5
}
