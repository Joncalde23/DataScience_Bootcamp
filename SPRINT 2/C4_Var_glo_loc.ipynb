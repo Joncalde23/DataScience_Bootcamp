{
 "cells": [
  {
   "cell_type": "markdown",
   "id": "81d85c2e",
   "metadata": {},
   "source": [
    "# Ejercicio 1\n",
    "\n",
    "En un sistema de inventario, es clave llevar un control preciso del stock. Para ello:\n",
    "\n",
    "* Se utiliza un diccionario global para almacenar el inventario.\n",
    "* Se emplean variables locales dentro de las funciones para agregar o quitar stock.\n",
    "* Se utiliza la función agregar stock, que suma unidades o añade nuevos productos.\n",
    "En este ejercicio deberás crear la función agregar stock. Presta atención al entorno de cada variable."
   ]
  },
  {
   "cell_type": "code",
   "execution_count": 1,
   "id": "b02a0126",
   "metadata": {},
   "outputs": [
    {
     "name": "stdout",
     "output_type": "stream",
     "text": [
      "Inventario inicial: {'manzana': 50, 'plátano': 30, 'naranja': 20}\n",
      "Se agrega(n) 20 manzana(s). Nuevo inventario: 70\n",
      "Se agrega el nuevo producto kiwi con 30 unidades. Nuevo inventario: 30\n"
     ]
    }
   ],
   "source": [
    "# Diccionario global que representa los niveles de inventario actuales\n",
    "inventory = {\n",
    "    'manzana': 50,   # Se tienen 50 manzanas en inventario\n",
    "    'plátano': 30,   # Se tienen 30 plátanos en inventario\n",
    "    'naranja': 20    # Se tienen 20 naranjas en inventario\n",
    "}\n",
    "\n",
    "# Muestra el inventario inicial\n",
    "print(\"Inventario inicial:\", inventory)\n",
    "\n",
    "# Función para agregar un nuevo producto o actualizar su cantidad en el inventario\n",
    "def add_stock(product, quantity):\n",
    "    \"\"\"\n",
    "    Agrega un producto al inventario o actualiza la cantidad si ya existe.\n",
    "    \n",
    "    Parámetros:\n",
    "    - product (str): Nombre del producto.\n",
    "    - quantity (int): Cantidad a agregar.\n",
    "    \"\"\"\n",
    "    global inventory  # Se usa la variable global 'inventory' para modificar el inventario general\n",
    "\n",
    "    if product in inventory:\n",
    "        # Si el producto ya existe, se suma la cantidad al stock actual\n",
    "        inventory[product] += quantity\n",
    "\n",
    "        print(f\"Se agrega(n) {quantity} {product}(s). Nuevo inventario: {inventory[product]}\")\n",
    "    else:\n",
    "        # Si el producto no existe en el inventario, se agrega como un nuevo producto\n",
    "        inventory[product] = quantity\n",
    "        print(f\"Se agrega el nuevo producto {product} con {quantity} unidades. Nuevo inventario: {inventory[product]}\")\n",
    "        \n",
    "# Realiza operaciones de stock\n",
    "add_stock('manzana', 20)       # Agregar 20 manzanas\n",
    "add_stock('kiwi', 30)          # Agregar el nuevo producto 'kiwi' con 30 unidades"
   ]
  }
 ],
 "metadata": {
  "kernelspec": {
   "display_name": "Python 3",
   "language": "python",
   "name": "python3"
  },
  "language_info": {
   "codemirror_mode": {
    "name": "ipython",
    "version": 3
   },
   "file_extension": ".py",
   "mimetype": "text/x-python",
   "name": "python",
   "nbconvert_exporter": "python",
   "pygments_lexer": "ipython3",
   "version": "3.10.4"
  }
 },
 "nbformat": 4,
 "nbformat_minor": 5
}
