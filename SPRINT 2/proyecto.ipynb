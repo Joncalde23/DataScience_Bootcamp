{
 "cells": [
  {
   "cell_type": "markdown",
   "id": "7571b726",
   "metadata": {},
   "source": [
    "# Ejercicio 3\n",
    "\n",
    "Limpieza de datos de una lista mediante una función"
   ]
  },
  {
   "cell_type": "code",
   "execution_count": 70,
   "id": "443fc114",
   "metadata": {},
   "outputs": [
    {
     "name": "stdout",
     "output_type": "stream",
     "text": [
      "['32415', ['mike', 'reed'], 32, ['electronics', 'sport', 'books'], [894, 213, 173]]\n"
     ]
    }
   ],
   "source": [
    "\n",
    "def clean_user(user):\n",
    "    # Elimino los espacios al inicio y final con strip, reemplazo '_' por espacio ' '\n",
    "    name = user[1].strip().replace('_', ' ')\n",
    "    # Divido el nombre y apellido en una lista\n",
    "    name = name.split()\n",
    "    # convierto la edad a entero\n",
    "    age= int(user[2])\n",
    "    # Defino la posición en la lista de las categorias\n",
    "    categories = user[3]\n",
    "    # Declaro una lista vacía para almacenar las categorias en minúsculas\n",
    "    new_list=[]\n",
    "    # Realizo un bucle for para iterar las categorias\n",
    "    for cat in categories:\n",
    "        # Cada string lo modifico a todo en minúsculas\n",
    "        cat =cat.lower()\n",
    "        # Agrego cada valor a la lista vacía new_list\n",
    "        new_list.append(cat)\n",
    "    # Declaro una nueva lista para generar la lista ya con las modificaciones \n",
    "    clean_list = [ user[0], name, age, new_list, user[4]]\n",
    "    # Devuelvo la lista ya modificada.\n",
    "    return(clean_list)\n",
    "        \n",
    "# Prueba\n",
    "test_user = ['32415', ' mike_reed ', 32.0, ['ELECTRONICS', 'SPORT', 'BOOKS'], [894, 213, 173]]\n",
    "print(clean_user(test_user))"
   ]
  },
  {
   "cell_type": "markdown",
   "id": "ad47bc2a",
   "metadata": {},
   "source": [
    "# Ejercicio 4\n",
    "Ya tienes la función clean_user() funcionando correctamente. Ahora es momento de aplicarla a todos los registros de clientes.\n",
    "\n",
    "1. Itera sobre la lista users_raw,\n",
    "2. Usa la función clean_user() para limpiar cada usuario,\n",
    "3. Guarda los resultados en una nueva lista llamada users_clean.  \n",
    "\n",
    "Al final, imprime users_clean para verificar que todos los usuarios han sido transformados correctamente."
   ]
  },
  {
   "cell_type": "code",
   "execution_count": 71,
   "id": "4c5f572d",
   "metadata": {},
   "outputs": [
    {
     "name": "stdout",
     "output_type": "stream",
     "text": [
      "[['32415', ['mike', 'reed'], 32, ['electronics', 'sport', 'books'], [894, 213, 173]], ['31980', ['kate', 'morgan'], 24, ['clothes', 'books'], [439, 390]], ['32156', ['john', 'doe'], 37, ['electronics', 'home', 'food'], [459, 120, 99]], ['32761', ['SAMANTHA', 'SMITH'], 29, ['clothes', 'electronics', 'beauty'], [299, 679, 85]], ['32984', ['David', 'White'], 41, ['books', 'home', 'sport'], [234, 329, 243]], ['33001', ['emily', 'brown'], 26, ['beauty', 'home', 'food'], [213, 659, 79]], ['33767', ['Maria', 'Garcia'], 33, ['clothes', 'food', 'beauty'], [499, 189, 63]], ['33912', ['JOSE', 'MARTINEZ'], 22, ['sport', 'electronics', 'home'], [259, 549, 109]], ['34009', ['lisa', 'wilson'], 35, ['home', 'books', 'clothes'], [329, 189, 329]], ['34278', ['James', 'Lee'], 28, ['beauty', 'clothes', 'electronics'], [189, 299, 579]]]\n"
     ]
    }
   ],
   "source": [
    "users_raw = [\n",
    "    ['32415', ' mike_reed ', 32.0, ['ELECTRONICS', 'SPORT', 'BOOKS'], [894, 213, 173]],\n",
    "    ['31980', 'kate morgan', 24.0, ['CLOTHES', 'BOOKS'], [439, 390]],\n",
    "    ['32156', ' john doe ', 37.0, ['ELECTRONICS', 'HOME', 'FOOD'], [459, 120, 99]],\n",
    "    ['32761', 'SAMANTHA SMITH', 29.0, ['CLOTHES', 'ELECTRONICS', 'BEAUTY'], [299, 679, 85]],\n",
    "    ['32984', 'David White', 41.0, ['BOOKS', 'HOME', 'SPORT'], [234, 329, 243]],\n",
    "    ['33001', 'emily brown', 26.0, ['BEAUTY', 'HOME', 'FOOD'], [213, 659, 79]],\n",
    "    ['33767', ' Maria Garcia', 33.0, ['CLOTHES', 'FOOD', 'BEAUTY'], [499, 189, 63]],\n",
    "    ['33912', 'JOSE MARTINEZ', 22.0, ['SPORT', 'ELECTRONICS', 'HOME'], [259, 549, 109]],\n",
    "    ['34009', 'lisa wilson ', 35.0, ['HOME', 'BOOKS', 'CLOTHES'], [329, 189, 329]],\n",
    "    ['34278', 'James Lee', 28.0, ['BEAUTY', 'CLOTHES', 'ELECTRONICS'], [189, 299, 579]]\n",
    "]\n",
    "\n",
    "users_clean = []\n",
    "\n",
    "for user in  users_raw:# escribe tu código aquí\n",
    "    #Declaro una variable que hace el llamado de la función de limpieza de los datos\n",
    "    list = clean_user(user)\n",
    "    #Cada iteración se almacenara en una nueva lista\n",
    "    users_clean.append(list)# escribe tu código aquí\n",
    "\n",
    "print(users_clean)\n",
    "\n",
    "\n"
   ]
  },
  {
   "cell_type": "markdown",
   "id": "84d8baac",
   "metadata": {},
   "source": [
    "# Ejercicio 5\n",
    "Ahora que tienes todos los registros de clientes limpios, el siguiente paso es comenzar a generar insights que puedan ayudar a la empresa a tomar decisiones estratégicas.\n",
    "\n",
    "La empresa desea conocer sus ingresos totales.\n",
    "\n",
    "Para calcular los ingresos de la empresa, sigue estos pasos:\n",
    "\n",
    "1. Crea una variable revenue con valor inicial 0.\n",
    "2. Itera sobre la lista users_clean con un bucle for.\n",
    "3. En cada iteración, extrae la lista de gastos de cada usuario (la última posición de la sublista).\n",
    "4. Suma esos valores con sum() y añádelos a revenue.\n",
    "5. Al finalizar, imprime el resultado final para mostrar el ingreso total generado por todos los usuarios.\n"
   ]
  },
  {
   "cell_type": "code",
   "execution_count": 72,
   "id": "337e9d95",
   "metadata": {},
   "outputs": [
    {
     "name": "stdout",
     "output_type": "stream",
     "text": [
      "9189\n"
     ]
    }
   ],
   "source": [
    "users_clean = [['32415', ['mike', 'reed'], 32, ['electronics', 'sport', 'books'], [894, 213, 173]],\n",
    "         \t\t\t ['31980', ['kate', 'morgan'], 24, ['clothes', 'books'], [439, 390]],\n",
    "         \t\t\t ['32156', ['john', 'doe'], 37, ['electronics', 'home', 'food'], [459, 120, 99]],\n",
    "         \t\t\t ['32761', ['samantha', 'smith'], 29, ['clothes', 'electronics', 'beauty'], [299, 679, 85]],\n",
    "         \t\t\t ['32984', ['david', 'white'], 41, ['books', 'home', 'sport'], [234, 329, 243]],\n",
    "         \t\t\t ['33001', ['emily', 'brown'], 26, ['beauty', 'home', 'food'], [213, 659, 79]],\n",
    "         \t\t\t ['33767', ['maria', 'garcia'], 33, ['clothes', 'food', 'beauty'], [499, 189, 63]],\n",
    "         \t\t\t ['33912', ['jose', 'martinez'], 22, ['sport', 'electronics', 'home'], [259, 549, 109]],\n",
    "         \t\t\t ['34009', ['lisa', 'wilson'], 35, ['home', 'books', 'clothes'], [329, 189, 329]],\n",
    "         \t\t\t ['34278', ['james', 'lee'], 28, ['beauty', 'clothes', 'electronics'], [189, 299, 579]]]\n",
    "\n",
    "revenue = 0 # escribe tu código aquí\n",
    "\n",
    "for user in users_clean:# escribe tu código aquí\n",
    "    # Accedo a los valores de la lista que es la última posición\n",
    "    values = user[-1]\n",
    "    # Utilizo el operador de asignación aumentada para cada iteración y sumo los valores de esta lista.\n",
    "    revenue += sum(values)    \n",
    "    \n",
    "\t# escribe tu código aquí\n",
    "\n",
    "print(revenue)\n"
   ]
  },
  {
   "cell_type": "code",
   "execution_count": null,
   "id": "69e23c09",
   "metadata": {},
   "outputs": [
    {
     "name": "stdout",
     "output_type": "stream",
     "text": [
      "[['32156', ['john', 'doe'], 37, 678], ['32984', ['david', 'white'], 41, 806], ['33001', ['emily', 'brown'], 26, 951], ['33912', ['jose', 'martinez'], 22, 917], ['34009', ['lisa', 'wilson'], 35, 847]]\n"
     ]
    }
   ],
   "source": [
    "users_clean = [['32415', ['mike', 'reed'], 32, ['electronics', 'sport', 'books'], [894, 213, 173]],\n",
    "         \t\t\t ['31980', ['kate', 'morgan'], 24, ['clothes', 'books'], [439, 390]],\n",
    "         \t\t\t ['32156', ['john', 'doe'], 37, ['electronics', 'home', 'food'], [459, 120, 99]],\n",
    "         \t\t\t ['32761', ['samantha', 'smith'], 29, ['clothes', 'electronics', 'beauty'], [299, 679, 85]],\n",
    "         \t\t\t ['32984', ['david', 'white'], 41, ['books', 'home', 'sport'], [234, 329, 243]],\n",
    "         \t\t\t ['33001', ['emily', 'brown'], 26, ['beauty', 'home', 'food'], [213, 659, 79]],\n",
    "         \t\t\t ['33767', ['maria', 'garcia'], 33, ['clothes', 'food', 'beauty'], [499, 189, 63]],\n",
    "         \t\t\t ['33912', ['jose', 'martinez'], 22, ['sport', 'electronics', 'home'], [259, 549, 109]],\n",
    "         \t\t\t ['34009', ['lisa', 'wilson'], 35, ['home', 'books', 'clothes'], [329, 189, 329]],\n",
    "         \t\t\t ['34278', ['james', 'lee'], 28, ['beauty', 'clothes', 'electronics'], [189, 299, 579]]]\n",
    "\n",
    "def get_clients_by_category(data, target): \n",
    "    result = []\n",
    "    \n",
    "    for row in data:\n",
    "        if  target in row[-2]:\n",
    "            total = sum(row[4])\n",
    "            new_list = [ row[0], row[1], row[2], total]\n",
    "            result.append(new_list)\n",
    "    \n",
    "    return result\n",
    "            \n",
    "filtered = get_clients_by_category(users_clean, 'home')\n",
    "print((filtered))"
   ]
  },
  {
   "cell_type": "code",
   "execution_count": null,
   "id": "c42c0b1f",
   "metadata": {},
   "outputs": [],
   "source": []
  },
  {
   "cell_type": "code",
   "execution_count": null,
   "id": "25ff1cf6",
   "metadata": {},
   "outputs": [],
   "source": []
  }
 ],
 "metadata": {
  "kernelspec": {
   "display_name": "Python 3",
   "language": "python",
   "name": "python3"
  },
  "language_info": {
   "codemirror_mode": {
    "name": "ipython",
    "version": 3
   },
   "file_extension": ".py",
   "mimetype": "text/x-python",
   "name": "python",
   "nbconvert_exporter": "python",
   "pygments_lexer": "ipython3",
   "version": "3.9.6"
  }
 },
 "nbformat": 4,
 "nbformat_minor": 5
}
