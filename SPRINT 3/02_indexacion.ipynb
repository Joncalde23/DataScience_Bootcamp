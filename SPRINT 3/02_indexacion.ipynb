{
 "cells": [
  {
   "cell_type": "markdown",
   "id": "357e4bf1",
   "metadata": {},
   "source": [
    "# Indexación por coordenadas\n",
    "\n",
    "La indexación permite acceder a una celda determinada de la tabla utilizando dos coordenadas: el número de la fila y el nombre de la columna.\n",
    "\n",
    "Para acceder a los valores de una tabla en un DataFrame, tenemos a nuestra disposición el atributo ```loc[]```: ```df.loc[row, column]```. La ```row``` (fila) y la ```column``` (columna) del valor en cuestión deben especificarse entre corchetes después de ```loc```.\n",
    "\n",
    "Por ejemplo, para obtener el contenido de la celda situada en la quinta fila de la columna ```'genre'```, utiliza ```df.loc[4, 'genre']```. Observa que la indexación comienza en 0, como es habitual.\n",
    "\n",
    "![Descripción de la imagen](https://practicum-content.s3.amazonaws.com/resources/Screenshot_2023-04-12_205444_1687269870.png)"
   ]
  },
  {
   "cell_type": "markdown",
   "id": "40664b66",
   "metadata": {},
   "source": []
  },
  {
   "cell_type": "markdown",
   "id": "5f5ceee3",
   "metadata": {},
   "source": [
    "# Notación abreviada para la indexación. \n",
    "\n",
    "En la práctica, un método comúnmente utilizado para la indexación es el de la notación abreviada. En lugar de llamar explícitamente al atributo ```.loc[]```, podemos pasar tranquilamente los índices objetivo deseados o los nombres de las columnas colocándolos entre corchetes de la variable DataFrame. Si, por ejemplo, quieres dos columnas, utiliza corchetes dobles. Este enfoque simplificado permite acceder de forma más concisa y eficaz a los elementos de datos necesarios dentro de un conjunto de datos. Observa cómo se utiliza en diferentes casos:\n",
    "\n",
    "|**Tipo**|**Notación completa**|**Notación abreviada**|\n",
    "|--------|---------------------|----------------------|\n",
    "|Una celda| ```.loc[7, 'genre']```|-|\n",
    "|Una columna|```.loc[:, 'genre']```|```df['genre']```\n",
    "|Columnas multiples|```.loc[:,['genre', 'Artist']]```| ```df[['genre', 'Artist']]```|\n",
    "|Múltiples columnas consecutivas (slice)|```.loc[:,'total play': 'genre']```| -|\n",
    "|Una fila| ```.loc[1]```|-|\n",
    "|Todas las filas, empezando por la fila dada|```.loc[1:]```|```df[1:]```|\n",
    "|Todas las filas, hasta la fila dada|```.loc[:3]```incluyendo 3|```df[:3]``` sin incluir 3|\n",
    "|Múltiples filas consecutivas (slice)|```.loc[2:5]```incluyendo 5|```df[2:5]```sin incluir 5|\n",
    "\n",
    "\n",
    "\n",
    "\n"
   ]
  },
  {
   "cell_type": "markdown",
   "id": "cd0414c6",
   "metadata": {},
   "source": [
    "# Filtrado con indexación lógica\n",
    "\n",
    "Pasos a tener en cuenta para realizar la indexación lógica:\n",
    "\n",
    "1. encontrar todas las filas en las que se cumpla la condición: el resultado de la misma indica el número de fila y su resultado (```True``` or ```False```)\n",
    "2. Usar el resultado obtenido en el paso previo para filtrar el DataFrame original.\n"
   ]
  },
  {
   "cell_type": "code",
   "execution_count": null,
   "id": "2cc172c3",
   "metadata": {},
   "outputs": [],
   "source": [
    "# PASO 1\n",
    "# Notación abreviada para el filtro\n",
    "print(df.['genre' == 'pop'])\n",
    "# Notación completa para el filtro\n",
    "print(df.loc[:, 'genre'] == 'pop')\n",
    "\n",
    "# PASO 2\n",
    "# VAMOS A IMPRIMIR EL RESULTADO DE LAS CANCIONES QUE SON IGUALES A POP:\n",
    "# Notación completa\n",
    "print(df.loc[:, 'genre'] == 'pop')\n",
    "# Notación mixta\n",
    "print(df.loc[df['genre'] == 'pop'])\n",
    "# Notación abreviada\n",
    "print(df[df['genre'] == 'pop'])\n",
    " # como resultado se obtendra el nombre de la canción que cumple la condición"
   ]
  },
  {
   "cell_type": "markdown",
   "id": "d2f85b12",
   "metadata": {},
   "source": [
    "# Ejercicio de ejemplo\n",
    "\n",
    "Utilizando el método loc, filtra el DataFrame para obtener las ventas que cumplan con las siguientes condiciones en este orden:\n",
    "\n",
    "1. Sucursal: sucursal \"Centro\" únicamente (ya lo hicimos en el ejercicio anterior).\n",
    "2. Producto: solo productos vendidos a un precio unitario mayor que 25.\n"
   ]
  },
  {
   "cell_type": "code",
   "execution_count": 1,
   "id": "db711526",
   "metadata": {},
   "outputs": [
    {
     "name": "stdout",
     "output_type": "stream",
     "text": [
      "  sucursal      producto      cliente  cantidad  precio_unitario  venta_total\n",
      "3   Centro  Jeans negros  Maria Lopez         1            39.99        39.99\n"
     ]
    }
   ],
   "source": [
    "import pandas as pd\n",
    "\n",
    "data = {\n",
    "    'sucursal': ['Centro', 'Norte', 'Sur', 'Centro', 'Norte'],\n",
    "    'producto': ['Camiseta roja', 'Zapatillas azules', 'Camisa blanca', 'Jeans negros', 'Camiseta roja'],\n",
    "    'cliente': ['Ana Garcia', 'Luis Rodriguez', 'Pedro Hernandez', 'Maria Lopez', 'Juan Perez'],\n",
    "    'cantidad': [2, 1, 3, 1, 4],\n",
    "    'precio_unitario': [15.99, 49.99, 29.99, 39.99, 15.99],\n",
    "    'venta_total': [31.98, 49.99, 89.97, 39.99, 63.96]\n",
    "}\n",
    "\n",
    "df = pd.DataFrame(data)\n",
    "\n",
    "# Al momento de hacer la busqeuda filtrada del DataFarmne data en la variable ventas_filtradas_df, esta variable sigue siendo un dataframe del primer data\n",
    "ventas_filtradas_df = df.loc[(df['sucursal'] == 'Centro')]\n",
    "# Por lo que seguiremos evaluando ese resultado de ese dataframe con la condición de que el precio unitario sea mayor a 25\n",
    "ventas_filtradas_df = ventas_filtradas_df[ventas_filtradas_df['precio_unitario'] > 25]\n",
    "# Se imprimen únicamente el resultado para las ventas mayores a 25\n",
    "print(ventas_filtradas_df)"
   ]
  },
  {
   "cell_type": "code",
   "execution_count": null,
   "id": "43b151fe",
   "metadata": {},
   "outputs": [],
   "source": []
  }
 ],
 "metadata": {
  "kernelspec": {
   "display_name": "Python 3",
   "language": "python",
   "name": "python3"
  },
  "language_info": {
   "codemirror_mode": {
    "name": "ipython",
    "version": 3
   },
   "file_extension": ".py",
   "mimetype": "text/x-python",
   "name": "python",
   "nbconvert_exporter": "python",
   "pygments_lexer": "ipython3",
   "version": "3.13.7"
  }
 },
 "nbformat": 4,
 "nbformat_minor": 5
}
