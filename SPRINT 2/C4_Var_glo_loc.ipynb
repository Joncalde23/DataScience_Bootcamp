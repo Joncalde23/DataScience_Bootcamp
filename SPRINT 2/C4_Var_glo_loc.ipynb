{
 "cells": [
  {
   "cell_type": "markdown",
   "id": "81d85c2e",
   "metadata": {},
   "source": [
    "# Ejercicio 1\n",
    "\n",
    "En un sistema de inventario, es clave llevar un control preciso del stock. Para ello:\n",
    "\n",
    "* Se utiliza un diccionario global para almacenar el inventario.\n",
    "* Se emplean variables locales dentro de las funciones para agregar o quitar stock.\n",
    "* Se utiliza la función agregar stock, que suma unidades o añade nuevos productos.\n",
    "En este ejercicio deberás crear la función agregar stock. Presta atención al entorno de cada variable."
   ]
  },
  {
   "cell_type": "code",
   "execution_count": 1,
   "id": "b02a0126",
   "metadata": {},
   "outputs": [
    {
     "name": "stdout",
     "output_type": "stream",
     "text": [
      "Inventario inicial: {'manzana': 50, 'plátano': 30, 'naranja': 20}\n",
      "Se agrega(n) 20 manzana(s). Nuevo inventario: 70\n",
      "Se agrega el nuevo producto kiwi con 30 unidades. Nuevo inventario: 30\n"
     ]
    }
   ],
   "source": [
    "# Diccionario global que representa los niveles de inventario actuales\n",
    "inventory = {\n",
    "    'manzana': 50,   # Se tienen 50 manzanas en inventario\n",
    "    'plátano': 30,   # Se tienen 30 plátanos en inventario\n",
    "    'naranja': 20    # Se tienen 20 naranjas en inventario\n",
    "}\n",
    "\n",
    "# Muestra el inventario inicial\n",
    "print(\"Inventario inicial:\", inventory)\n",
    "\n",
    "# Función para agregar un nuevo producto o actualizar su cantidad en el inventario\n",
    "def add_stock(product, quantity):\n",
    "    \"\"\"\n",
    "    Agrega un producto al inventario o actualiza la cantidad si ya existe.\n",
    "    \n",
    "    Parámetros:\n",
    "    - product (str): Nombre del producto.\n",
    "    - quantity (int): Cantidad a agregar.\n",
    "    \"\"\"\n",
    "    global inventory  # Se usa la variable global 'inventory' para modificar el inventario general\n",
    "\n",
    "    if product in inventory:\n",
    "        # Si el producto ya existe, se suma la cantidad al stock actual\n",
    "        inventory[product] += quantity\n",
    "\n",
    "        print(f\"Se agrega(n) {quantity} {product}(s). Nuevo inventario: {inventory[product]}\")\n",
    "    else:\n",
    "        # Si el producto no existe en el inventario, se agrega como un nuevo producto\n",
    "        inventory[product] = quantity\n",
    "        print(f\"Se agrega el nuevo producto {product} con {quantity} unidades. Nuevo inventario: {inventory[product]}\")\n",
    "        \n",
    "# Realiza operaciones de stock\n",
    "add_stock('manzana', 20)       # Agregar 20 manzanas\n",
    "add_stock('kiwi', 30)          # Agregar el nuevo producto 'kiwi' con 30 unidades"
   ]
  },
  {
   "cell_type": "markdown",
   "id": "79c8b8ed",
   "metadata": {},
   "source": [
    "# Ejercicio 2\n",
    "\n",
    "Seguimos trabajando con el sistema de inventario de nuestra tienda. Hasta ahora, ya diseñamos una función para agregar productos al stock. Repasemos algunos puntos clave del código:\n",
    "\n",
    "* El inventario se almacena en un **diccionario global** llamado inventory.\n",
    "* Dentro de las funciones, se utilizan **variables locales** para manejar cantidades específicas y realizar operaciones.\n",
    "* Para mantener este ejercicio claro y enfocado, no volveremos a escribir la función ```add_stock```.\n",
    "\n",
    "Ahora tu tarea será crear una función para remover productos del inventario, por ejemplo, cuando un cliente realiza una compra.\n",
    "\n",
    "Tu función debe:\n",
    "\n",
    "1. Verificar si el producto existe en el inventario.\n",
    "2. Validar si hay suficiente stock disponible para quitar la cantidad indicada.\n",
    "3. Actualizar el inventario si la operación es válida, o mostrar un mensaje si no es posible. El mensaje es: El producto X no existe en el inventario. No se puede quitar el stock.  \n",
    "\n",
    "Además, recuerda prestar atención al uso de variables globales y locales."
   ]
  },
  {
   "cell_type": "code",
   "execution_count": 6,
   "id": "01c29dcd",
   "metadata": {},
   "outputs": [
    {
     "name": "stdout",
     "output_type": "stream",
     "text": [
      "Inventario inicial: {'manzana': 50, 'plátano': 30, 'naranja': 20}\n",
      "se quita(n) 10 plátano. Nuevo inventario: 20\n",
      "Stock insuficiente de naranja. No se puede(n) quitar 25 naranja(s)\n",
      "El producto uva no existe en el inventario. No se puede quitar el stock\n"
     ]
    }
   ],
   "source": [
    "# Diccionario global que representa los niveles de inventario actuales\n",
    "inventory = {\n",
    "    'manzana': 50,\n",
    "    'plátano': 30,\n",
    "    'naranja': 20\n",
    "}\n",
    "\n",
    "# Muestra el inventario inicial\n",
    "print(\"Inventario inicial:\", inventory)\n",
    "\n",
    "def stock_inventario(producto, cantidad):\n",
    "    global inventory\n",
    "    if producto in inventory:\n",
    "        Cantidad_local = inventory[producto] \n",
    "        if Cantidad_local >= cantidad:\n",
    "            inventory[producto] -= cantidad\n",
    "            print(f'se quita(n) {cantidad} {producto}. Nuevo inventario: {inventory[producto]}')\n",
    "        elif Cantidad_local < cantidad:\n",
    "            print(f'Stock insuficiente de {producto}. No se puede(n) quitar {cantidad} {producto}(s)')\n",
    "    else:\n",
    "        print(f'El producto {producto} no existe en el inventario. No se puede quitar el stock')\n",
    "\n",
    "\n",
    "stock_inventario('plátano', 10)\n",
    "stock_inventario('naranja', 25)\n",
    "stock_inventario('uva', 50)\n"
   ]
  }
 ],
 "metadata": {
  "kernelspec": {
   "display_name": "Python 3",
   "language": "python",
   "name": "python3"
  },
  "language_info": {
   "codemirror_mode": {
    "name": "ipython",
    "version": 3
   },
   "file_extension": ".py",
   "mimetype": "text/x-python",
   "name": "python",
   "nbconvert_exporter": "python",
   "pygments_lexer": "ipython3",
   "version": "3.10.4"
  }
 },
 "nbformat": 4,
 "nbformat_minor": 5
}
