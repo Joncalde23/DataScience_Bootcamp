{
 "cells": [
  {
   "cell_type": "markdown",
   "id": "04c1a85e",
   "metadata": {},
   "source": [
    "# Como leer archivos Excel\n",
    "\n",
    "cuando se usa la estructura de lectura de archivos desde pandas, siempre cargara la primer hoja del archivo, para cargar una hoja diferente a la primera, se debe hacer lo siguiente:\n"
   ]
  },
  {
   "cell_type": "code",
   "execution_count": null,
   "id": "3fb90972",
   "metadata": {},
   "outputs": [],
   "source": [
    "import pandas as pd\n",
    "\n",
    "#Se hace uso de sheet_name para indicarle que hoja queremos utilizar.\n",
    "\n",
    "df_products = pd.read_excel('/datasets/product_reviews.xlsx', sheet_name='products')\n",
    "\n",
    "print(df_products)"
   ]
  }
 ],
 "metadata": {
  "language_info": {
   "name": "python"
  }
 },
 "nbformat": 4,
 "nbformat_minor": 5
}
