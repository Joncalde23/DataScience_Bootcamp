{
 "cells": [
  {
   "cell_type": "markdown",
   "id": "487960f9",
   "metadata": {},
   "source": [
    "# Solucionar probelas con archivos CSV\n",
    "\n",
    "En algunas ocasiones los archivos csv, no siempre vienen separados por coma, pueden tener otro carácter separador, por lo que es necesario en la instrucción de lectura del archivo CSV, definir que separador tiene dicho archivo, por ejemplo:\n"
   ]
  },
  {
   "cell_type": "code",
   "execution_count": null,
   "id": "d29cedc6",
   "metadata": {},
   "outputs": [],
   "source": [
    "import pandas as pd\n",
    "# Con está instrucción le indicamos que el separador es un '|'\n",
    "data = pd.read_csv('/datasets/gpp_modified.csv', sep='|')"
   ]
  },
  {
   "cell_type": "markdown",
   "id": "46e693d3",
   "metadata": {},
   "source": [
    "# Cuando no tiene cabecera\n",
    "\n",
    "Algunas veces el archivo no cuenta con cabecera, por lo que por defecto la instrucción de lectura del fichero CSV, toma la primera fila como los encabezados, pero cómo no están definidos ocurrida un error.\n",
    "\n",
    "Es necesario brindarle instrucciones desde una lista y que ponga las columnas respectivas en codigo:"
   ]
  },
  {
   "cell_type": "code",
   "execution_count": null,
   "id": "001fafa3",
   "metadata": {},
   "outputs": [],
   "source": [
    "import pandas as pd\n",
    "column_names= [\n",
    "    'country',\n",
    "    'name',\n",
    "    'capacity_mw',\n",
    "    'latitude',\n",
    "    'longitude',\n",
    "    'primary_fuel',\n",
    "    'owner'\n",
    "]\n",
    "# Con está instrucción le indicamos que el separador es un '|'\n",
    "data = pd.read_csv('/datasets/gpp_modified.csv', sep='|', Header=None, names = column_names)"
   ]
  },
  {
   "cell_type": "markdown",
   "id": "5e3bd269",
   "metadata": {},
   "source": [
    "# Corrección separador de números decimales\n",
    "\n",
    "Algunos archivos, en la información númerica el separador de decimales viene definido por comas, por lo que lo mejor es separarlo por '.', ya que la libreria de pandas, para que asuma que es un número flotante debe venir separado por ```'.'```, si no hacemos dicha conerción, pandas por defecto toma el valor como un string.\n",
    "\n",
    "Para hacer dicho cambio se debe realziar el siguiente código:"
   ]
  },
  {
   "cell_type": "code",
   "execution_count": null,
   "id": "b8b3bd2e",
   "metadata": {},
   "outputs": [],
   "source": [
    "import pandas as pd\n",
    "column_names= [\n",
    "    'country',\n",
    "    'name',\n",
    "    'capacity_mw',\n",
    "    'latitude',\n",
    "    'longitude',\n",
    "    'primary_fuel',\n",
    "    'owner'\n",
    "]\n",
    "# Con está instrucción le indicamos que el separador es un '|'\n",
    "data = pd.read_csv('/datasets/gpp_modified.csv', sep='|', Header=None, names = column_names, decimal=',')\n",
    "\n"
   ]
  }
 ],
 "metadata": {
  "language_info": {
   "name": "python"
  }
 },
 "nbformat": 4,
 "nbformat_minor": 5
}
