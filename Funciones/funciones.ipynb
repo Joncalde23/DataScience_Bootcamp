{
 "cells": [
  {
   "cell_type": "markdown",
   "id": "7429c1ef",
   "metadata": {},
   "source": [
    "Programa una función, llamada ```filter_clients```, que permita filtrar una lista de clientes según el área de trabajo del cliente. Por ejemplo, ```“IT”```. \n",
    "\n",
    "Para ello, tu función deberá:\n",
    "\n",
    "1. Recibir dos parámetros: la lista de clientes con la que deberá trabajar y el ```work_field``` que estoy buscando filtrar.\n",
    "2. Definir dentro de la función una variable llamada ```field```, la cual almacenará el área de trabajo por el que se busca filtrar a los clientes. Utiliza el valor ```\"Finance\"```.\n",
    "3. Recorrer cada cliente de la lista. Si se encuentra uno que coincida con el campo a filtrar, la información de este cliente se debe añadir a una nueva lista.\n",
    "4. Esta nueva lista se devolverá como resultado de ejecutar la función cuando se termine de recorrer la lista completa de clientes."
   ]
  },
  {
   "cell_type": "code",
   "execution_count": 1,
   "id": "e769d9de",
   "metadata": {},
   "outputs": [
    {
     "name": "stdout",
     "output_type": "stream",
     "text": [
      "[[47635, 'David Kim', 36, 180000, 'Finance'], [104556, 'William Brown', 38, 289000, 'Finance']]\n"
     ]
    }
   ],
   "source": [
    "clients_list = [\n",
    "       [47635, \"David Kim\", 36, 180000, \"Finance\"],\n",
    "        [49571, \"Samantha Chen\", 42, 220000, \"Retail\"],\n",
    "        [50391, \"Juan Rodriguez\", 31, 160000, \"Architecture\"],\n",
    "        [34556, \"Lucas Hernandez\", 37, 75000, \"Education\"],\n",
    "        [64291, \"Jessica Li\", 25, 125000, \"IT\"],\n",
    "        [104556, \"William Brown\", 38, 289000, \"Finance\"],\n",
    "        [105491, \"Emily Smith\", 29, 193000, \"Healthcare\"],\n",
    "        [107512, \"Michael Perez\", 53, 415000, \"Transportation\"]]\n",
    "\n",
    "\n",
    "# crea aquí tu función filter_clients. Usar la lista de clientes y el field como parámetros\n",
    "def filter_clients(clients, field):\n",
    "    result = []\n",
    "    for client in clients:\n",
    "        if client[-1] == field:\n",
    "            result.append(client)\n",
    "    return result\n",
    "    \n",
    "\n",
    "\n",
    "filtered_list = filter_clients(clients_list, 'Finance')# Llama tu función con el valor \"Finance\"\n",
    "\n",
    "# muestra el resultado\n",
    "print(filtered_list)"
   ]
  },
  {
   "cell_type": "markdown",
   "id": "4472851c",
   "metadata": {},
   "source": []
  },
  {
   "cell_type": "markdown",
   "id": "c11c1e2c",
   "metadata": {},
   "source": [
    "Tu tarea es construir una función que permita verificar si un libro específico está disponible en el inventario.\n",
    "\n",
    "Debes implementar la función check_availability(titulo), que:\n",
    "\n",
    "* Recorra el inventario (inventory).\n",
    "* Busque el libro por su titulo.\n",
    "* Muestre si está disponible.\n",
    "* Si el libro no existe, debe mostrar que no está en el inventario.\n",
    "\n",
    "Descomposición de la tarea:\n",
    "\n",
    "1. Definir la función check_availability(titulo).\n",
    "2. Usar un bucle for para recorrer cada libro en el inventario.\n",
    "3. Comparar el titulo proporcionado con el título de cada libro en el inventario y comprobar su estado de disponibilidad (disponible).\n",
    "4. Mostrar el estado de disponibilidad si se encuentra, usando la frase \"'{titulo}' está disponible.\".\n",
    "5. Si no se encuentra, imprimir el mensaje \"'{titulo}' no está en el inventario.\"."
   ]
  },
  {
   "cell_type": "code",
   "execution_count": 5,
   "id": "7eb0139a",
   "metadata": {},
   "outputs": [
    {
     "name": "stdout",
     "output_type": "stream",
     "text": [
      "'Cien años de soledad' está disponible.\n",
      "'Pedro Páramo' no está en el inventario.\n"
     ]
    }
   ],
   "source": [
    "# Inventario inicial\n",
    "inventory = [\n",
    "    {\"titulo\": \"Cien años de soledad\", \"autor\": \"Gabriel García Márquez\", \"disponible\": True},\n",
    "    {\"titulo\": \"La casa de los espíritus\", \"autor\": \"Isabel Allende\", \"disponible\": True},\n",
    "    {\"titulo\": \"Rayuela\", \"autor\": \"Julio Cortázar\", \"disponible\": False},\n",
    "]\n",
    "\n",
    "#1 Definir la función para verificar disponibilidad\n",
    "def check_availability(titulo):\n",
    "    #2 Crear un bucle para recorrer cada libro\n",
    "    for libro in inventory:\n",
    "        \n",
    "    #3 Revisar si el libro está en el inventario y su estado es \"disponible\"\n",
    "        if libro['titulo'] == titulo and libro['disponible']:\n",
    "    #4 Imprimir la frase \"'{titulo}' está disponible.\" si está disponible\n",
    "            print(f\"'{titulo}' está disponible.\")\n",
    "            return\n",
    "            \n",
    "    print(f\"'{titulo}' no está en el inventario.\")\n",
    "        \n",
    "    #5 Si no se encuentra, imprimir el mensaje \"'{titulo}' no está en el inventario.\"\n",
    "\n",
    "\n",
    "# Uso de la función\n",
    "\n",
    "check_availability(\"Cien años de soledad\")\n",
    "check_availability(\"Pedro Páramo\")"
   ]
  },
  {
   "cell_type": "markdown",
   "id": "e333fa1b",
   "metadata": {},
   "source": [
    "# Reto Sprint 2 webinar 3\n",
    "crea una función llamada contador_digitos que retorne la cantidad de números que son de tipo entero o decimal. "
   ]
  },
  {
   "cell_type": "code",
   "execution_count": 3,
   "id": "783b426c",
   "metadata": {},
   "outputs": [
    {
     "name": "stdout",
     "output_type": "stream",
     "text": [
      "2\n",
      "2\n"
     ]
    }
   ],
   "source": [
    "lista = [2, 2.1, \"2.1\", 0, 3.78, '9']\n",
    "\n",
    "def contador_digitos (data):\n",
    "    entero =0\n",
    "    decimal = 0\n",
    "    for lista in data:\n",
    "        if type(lista) == int:\n",
    "            entero += 1\n",
    "        elif type(lista) == float:\n",
    "            decimal +=1\n",
    "    return entero, decimal\n",
    "\n",
    "entero, decimal = contador_digitos(lista)\n",
    "print(entero)\n",
    "print(decimal)\n",
    "            \n"
   ]
  },
  {
   "cell_type": "markdown",
   "id": "c407b2ca",
   "metadata": {},
   "source": [
    "# Limpieza de usuario"
   ]
  },
  {
   "cell_type": "code",
   "execution_count": null,
   "id": "bb7ea58d",
   "metadata": {},
   "outputs": [],
   "source": [
    "def clean_user(user):\n",
    "    # Elimino los espacios al inicio y final con strip, reemplazo '_' por espacio ' '\n",
    "    name = user[1].strip().replace('_', ' ')\n",
    "    # Divido el nombre y apellido en una lista\n",
    "    name = name.split()\n",
    "    # convierto la edad a entero\n",
    "    age= int(user[2])\n",
    "    # Defino la posición en la lista de las categorias\n",
    "    categories = user[3]\n",
    "    # Declaro una lista vacía para almacenar las categorias en minúsculas\n",
    "    new_list=[]\n",
    "    # Realizo un bucle for para iterar las categorias\n",
    "    for cat in categories:\n",
    "        # Cada string lo modifico a todo en minúsculas\n",
    "        cat =cat.lower()\n",
    "        # Agrego cada valor a la lista vacía new_list\n",
    "        new_list.append(cat)\n",
    "    # Declaro una nueva lista para generar la lista ya con las modificaciones \n",
    "    clean_list = [ user[0], name, age, new_list, user[4]]\n",
    "    # Devuelvo la lista ya modificada.\n",
    "    return(clean_list)"
   ]
  }
 ],
 "metadata": {
  "kernelspec": {
   "display_name": "Python 3",
   "language": "python",
   "name": "python3"
  },
  "language_info": {
   "codemirror_mode": {
    "name": "ipython",
    "version": 3
   },
   "file_extension": ".py",
   "mimetype": "text/x-python",
   "name": "python",
   "nbconvert_exporter": "python",
   "pygments_lexer": "ipython3",
   "version": "3.9.6"
  }
 },
 "nbformat": 4,
 "nbformat_minor": 5
}
