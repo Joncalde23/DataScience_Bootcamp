{
 "cells": [
  {
   "cell_type": "markdown",
   "id": "9a21b510",
   "metadata": {},
   "source": [
    "# mean, sum & count\n",
    "\n",
    "Con la filtración lógica es posible poder emplear los metodos como:\n",
    "\n",
    "* ```mean()```: Extrae la media de los valores de un DataFrame\n",
    "* ```count()``` : Cuenta el número de filas que cumplen con un criterio en nuestro DataFrame\n",
    "* ```sum()```: Suma los valores que están en el DataFrame\n",
    "\n",
    "1. El primer paso es hacer el filtrado por la condición que queremos obtener, por ejemplo, filtraremos todas las canciones que contienen el genero ```'pop'``` y se almacenara en el DataFrame ```pop_df```.\n",
    "\n",
    "    ```pop_df = df[df['genre] == 'pop]```\n",
    "\n",
    "2. Como en el paso anterior ya se obtiene el DataFrame con el filtro lógico de las canciones ```'pop'```, entonces declaramos una nueva variable que filtre ```'total play'```\n",
    "\n",
    "    ```pop_duration = pop_df['total play']``` \n",
    "\n",
    "3. Ahora hacemos uso del metodo ```.mean()``` y la empleamos en el DataFrame ```pop_duration```, dicho resultado nos dara el promedio de reproducción del genero pop.\n",
    "\n",
    "    ```mean_duration = pop_duration.mean()```\n",
    "\n",
    "De cierta manera el código se hace muy extenso hacerlo de esta manera por lo que se resume así:\n",
    "\n",
    "```mean_duration = df[df['genre'] == 'pop']['total play'].mean()```\n",
    "\n",
    "Ahora, para emplear el metodo ```.count()``` se evalua si  ```'total play'``` es > 189, que esta en una variable asignada y de ese DataFrame quiero que me realice el conteo con el metodo ```count()```\n",
    "\n",
    "```duration_threshold = 180```\n",
    "```long_songs = df[df['total play] > duration_threshold]['total play].count()```\n",
    "\n",
    "Ahora se evalua cuanto tiempo a escuchado musica un usuario:\n",
    "\n",
    "```user_sum_dur = df[df['user_id'] == '174c0ed6']['total play'].sum()```\n",
    "\n",
    "\n"
   ]
  },
  {
   "cell_type": "markdown",
   "id": "e1b2f7c2",
   "metadata": {},
   "source": []
  }
 ],
 "metadata": {
  "language_info": {
   "name": "python"
  }
 },
 "nbformat": 4,
 "nbformat_minor": 5
}
