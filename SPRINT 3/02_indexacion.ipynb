{
 "cells": [
  {
   "cell_type": "markdown",
   "id": "357e4bf1",
   "metadata": {},
   "source": [
    "# Indexación por coordenadas\n",
    "\n",
    "La indexación permite acceder a una celda determinada de la tabla utilizando dos coordenadas: el número de la fila y el nombre de la columna.\n",
    "\n",
    "Para acceder a los valores de una tabla en un DataFrame, tenemos a nuestra disposición el atributo ```loc[]```: ```df.loc[row, column]```. La ```row``` (fila) y la ```column``` (columna) del valor en cuestión deben especificarse entre corchetes después de ```loc```.\n",
    "\n",
    "Por ejemplo, para obtener el contenido de la celda situada en la quinta fila de la columna ```'genre'```, utiliza ```df.loc[4, 'genre']```. Observa que la indexación comienza en 0, como es habitual.\n",
    "\n",
    "![Descripción de la imagen](https://practicum-content.s3.amazonaws.com/resources/Screenshot_2023-04-12_205444_1687269870.png)"
   ]
  },
  {
   "cell_type": "markdown",
   "id": "40664b66",
   "metadata": {},
   "source": []
  },
  {
   "cell_type": "markdown",
   "id": "5f5ceee3",
   "metadata": {},
   "source": [
    "# Notación abreviada para la indexación. \n",
    "\n",
    "En la práctica, un método comúnmente utilizado para la indexación es el de la notación abreviada. En lugar de llamar explícitamente al atributo ```.loc[]```, podemos pasar tranquilamente los índices objetivo deseados o los nombres de las columnas colocándolos entre corchetes de la variable DataFrame. Si, por ejemplo, quieres dos columnas, utiliza corchetes dobles. Este enfoque simplificado permite acceder de forma más concisa y eficaz a los elementos de datos necesarios dentro de un conjunto de datos. Observa cómo se utiliza en diferentes casos:\n",
    "\n",
    "|                           |                           |                       |"
   ]
  },
  {
   "cell_type": "markdown",
   "id": "edea3ab1",
   "metadata": {},
   "source": []
  }
 ],
 "metadata": {
  "language_info": {
   "name": "python"
  }
 },
 "nbformat": 4,
 "nbformat_minor": 5
}
