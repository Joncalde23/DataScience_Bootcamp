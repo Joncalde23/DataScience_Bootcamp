{
 "cells": [
  {
   "cell_type": "markdown",
   "id": "d14c1687",
   "metadata": {},
   "source": [
    "# Transformación de datos string a datetime\n",
    "\n",
    "\n",
    "\n",
    "\n",
    "\n"
   ]
  },
  {
   "cell_type": "markdown",
   "id": "faea6296",
   "metadata": {},
   "source": [
    "lo más recomendable cuando trabajamos con fechas lo mejor es convertir datos a `datetime`, inicialmente pandas lee el tipo de datos como `object`.\n",
    "\n",
    "Para hacer la conversión a date time se usa \n",
    "```python\n",
    "data['columna']= pd.to_datetime(data['columna'])\n",
    "```\n",
    "Hay que tener presente que no todos los formatos de la hora vienen establecidos de la misma manera (DD,MM,AAAA), puede ser (MM,DD,AAAA), por lo que se puede emplear el parametro `format=`.\n",
    "\n",
    "ejemplos:\n",
    "\n",
    "`11-03-01 17:34:15`\n",
    "`%m-%d-%Y %H:%M:%S`\n",
    "\n",
    "`20180405T165358`\n",
    "\n",
    "`%d`    = dia del mes (01 - 31).  \n",
    "`%m`    = mes (01 - 12).  \n",
    "`%y`    = dos digitos del año(94).  \n",
    "`%Y`    = cuatro dígitos del año (1994).  \n",
    "`Z o T` = standar de separador de fecha y hora.  \n",
    "`%H`    = hora en formato 24 horas.  \n",
    "`%I`    = hora en formato 12 horas.  \n",
    "`%M`    = para minutos (00 - 59).  \n",
    "`%S`    = para segundos (00 - 59).  \n",
    "\n",
    "metodos más importantes de datetime:\n",
    "\n",
    "* dt.round(): \n",
    "    * Redondea a la hora más cercana `data['columna'].dt.round('H')`.\n",
    "        2016-04-29 18:00:00\n",
    "        2016-04-29 16:00:00\n",
    "        2016-04-29 16:00:00\n",
    "    * Redondea al cuarto de hora más cercano `data['columna'].dt.round('15min').head()`.\n",
    "        2016-04-29 18:45:00\n",
    "        2016-04-29 16:15:00\n",
    "        2016-04-29 16:15:00\n",
    "* dt.floor(): este método redondea igual que `dt.round()`, solo que redondea hacía abajo.\n",
    "* dt.ceil(): Este método redondea igual que `dt.round()`, solo que redondea hacía arriba."
   ]
  },
  {
   "cell_type": "markdown",
   "id": "ed78e1aa",
   "metadata": {},
   "source": []
  },
  {
   "cell_type": "markdown",
   "id": "7f7b5ed2",
   "metadata": {},
   "source": [
    "Una clienta reporta que su pedido no llegó y asegura haberlo hecho “el 13 de mayo de 2013 a mediodía”.\n",
    "\n",
    "\n",
    "`'5/13/13 12:04:00'`"
   ]
  },
  {
   "cell_type": "code",
   "execution_count": 2,
   "id": "dc5af296",
   "metadata": {},
   "outputs": [
    {
     "name": "stdout",
     "output_type": "stream",
     "text": [
      "2013-05-13 12:04:00\n"
     ]
    }
   ],
   "source": [
    "import pandas as pd\n",
    "\n",
    "string_date = '5/13/13 12:04:00'\n",
    "fecha = pd.to_datetime(string_date, format='%m/%d/%y %H:%M:%S')\n",
    "print(fecha)"
   ]
  },
  {
   "cell_type": "markdown",
   "id": "36caa152",
   "metadata": {},
   "source": [
    "Trabajas con el equipo de ventas globales y estás revisando registros de una sucursal en Europa del Este.\n",
    "Recibes este string como fecha de una operación financiera:\n",
    "\n",
    "`'20-12-2002Z04:31:00'`"
   ]
  },
  {
   "cell_type": "code",
   "execution_count": 3,
   "id": "50d35b3f",
   "metadata": {},
   "outputs": [
    {
     "name": "stdout",
     "output_type": "stream",
     "text": [
      "2002-12-20 04:31:00\n"
     ]
    }
   ],
   "source": [
    "import pandas as pd\n",
    "\n",
    "raw_date = '20-12-2002Z04:31:00'\n",
    "clean_date = pd.to_datetime(raw_date, format='%d-%m-%YZ%H:%M:%S')\n",
    "print(clean_date)"
   ]
  },
  {
   "cell_type": "markdown",
   "id": "cbf33eb5",
   "metadata": {},
   "source": []
  },
  {
   "cell_type": "markdown",
   "id": "32ca5a8c",
   "metadata": {},
   "source": []
  }
 ],
 "metadata": {
  "kernelspec": {
   "display_name": "Python 3",
   "language": "python",
   "name": "python3"
  },
  "language_info": {
   "codemirror_mode": {
    "name": "ipython",
    "version": 3
   },
   "file_extension": ".py",
   "mimetype": "text/x-python",
   "name": "python",
   "nbconvert_exporter": "python",
   "pygments_lexer": "ipython3",
   "version": "3.13.7"
  }
 },
 "nbformat": 4,
 "nbformat_minor": 5
}
